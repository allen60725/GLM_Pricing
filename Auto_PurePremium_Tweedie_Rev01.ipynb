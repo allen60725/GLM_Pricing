{
  "nbformat": 4,
  "nbformat_minor": 0,
  "metadata": {
    "colab": {
      "name": "Auto_PurePremium-Tweedie Rev01.ipynb",
      "version": "0.3.2",
      "provenance": [],
      "collapsed_sections": [],
      "include_colab_link": true
    },
    "language_info": {
      "codemirror_mode": {
        "name": "ipython",
        "version": 3
      },
      "file_extension": ".py",
      "mimetype": "text/x-python",
      "name": "python",
      "nbconvert_exporter": "python",
      "pygments_lexer": "ipython3",
      "version": "3.6.0"
    },
    "kernelspec": {
      "display_name": "Python 3",
      "language": "python",
      "name": "python3"
    }
  },
  "cells": [
    {
      "cell_type": "markdown",
      "metadata": {
        "id": "view-in-github",
        "colab_type": "text"
      },
      "source": [
        "<a href=\"https://colab.research.google.com/github/allen60725/GLM_Pricing/blob/master/Auto_PurePremium_Tweedie_Rev01.ipynb\" target=\"_parent\"><img src=\"https://colab.research.google.com/assets/colab-badge.svg\" alt=\"Open In Colab\"/></a>"
      ]
    },
    {
      "metadata": {
        "id": "ckhyLK5TCHjy",
        "colab_type": "text"
      },
      "cell_type": "markdown",
      "source": [
        "# Pure Premium Modelling with Tweedie GLM"
      ]
    },
    {
      "metadata": {
        "id": "wSGBTgXPCHj1",
        "colab_type": "text"
      },
      "cell_type": "markdown",
      "source": [
        "## Loading data\n",
        "Let us load the datasets and take a look at them"
      ]
    },
    {
      "metadata": {
        "id": "KQEIJMR4CVxW",
        "colab_type": "code",
        "outputId": "92d4dc10-1ca8-4d24-b1ff-229849b418b9",
        "colab": {
          "base_uri": "https://localhost:8080/",
          "height": 35
        }
      },
      "cell_type": "code",
      "source": [
        "from google.colab import drive\n",
        "drive.mount('/content/gdrive')"
      ],
      "execution_count": 1,
      "outputs": [
        {
          "output_type": "stream",
          "text": [
            "Drive already mounted at /content/gdrive; to attempt to forcibly remount, call drive.mount(\"/content/gdrive\", force_remount=True).\n"
          ],
          "name": "stdout"
        }
      ]
    },
    {
      "metadata": {
        "id": "xGfgqevkONLd",
        "colab_type": "code",
        "colab": {}
      },
      "cell_type": "code",
      "source": [
        "import pandas as pd\n",
        "import numpy as np\n",
        "import statsmodels.api as sm"
      ],
      "execution_count": 0,
      "outputs": []
    },
    {
      "metadata": {
        "id": "RRfYdiLL2zEQ",
        "colab_type": "code",
        "colab": {}
      },
      "cell_type": "code",
      "source": [
        "# The data to load\n",
        "f = \"/content/gdrive/My Drive/NextGenModeling/Bi_modeling_binned_base.csv\"\n",
        "\n",
        "# As this is a demo, the large data set was reduced by taking every N-th (in this case 5th) \n",
        "n = 5\n",
        "\n",
        "# Count the lines or use an upper bound\n",
        "num_lines = sum(1 for l in open(f))\n",
        "\n",
        "# The row indices to skip - make sure 0 is not included to keep the header!\n",
        "skip_idx = [x for x in range(1, num_lines) if x % n != 0]\n",
        "\n",
        "# Read the data\n",
        "df= pd.read_csv(f, skiprows=skip_idx)"
      ],
      "execution_count": 0,
      "outputs": []
    },
    {
      "metadata": {
        "id": "HEnEOKy0OG5f",
        "colab_type": "code",
        "outputId": "3694a9a5-7cdf-4378-e721-3dcc2ba0ae3f",
        "colab": {
          "base_uri": "https://localhost:8080/",
          "height": 35
        }
      },
      "cell_type": "code",
      "source": [
        "df.shape\n"
      ],
      "execution_count": 4,
      "outputs": [
        {
          "output_type": "execute_result",
          "data": {
            "text/plain": [
              "(103742, 126)"
            ]
          },
          "metadata": {
            "tags": []
          },
          "execution_count": 4
        }
      ]
    },
    {
      "metadata": {
        "id": "cehjOdJoMUu8",
        "colab_type": "code",
        "outputId": "02282cb9-d90b-44d7-e6b3-3724fb706b47",
        "colab": {
          "base_uri": "https://localhost:8080/",
          "height": 273
        }
      },
      "cell_type": "code",
      "source": [
        "df.head()"
      ],
      "execution_count": 5,
      "outputs": [
        {
          "output_type": "execute_result",
          "data": {
            "text/html": [
              "<div>\n",
              "<style scoped>\n",
              "    .dataframe tbody tr th:only-of-type {\n",
              "        vertical-align: middle;\n",
              "    }\n",
              "\n",
              "    .dataframe tbody tr th {\n",
              "        vertical-align: top;\n",
              "    }\n",
              "\n",
              "    .dataframe thead th {\n",
              "        text-align: right;\n",
              "    }\n",
              "</style>\n",
              "<table border=\"1\" class=\"dataframe\">\n",
              "  <thead>\n",
              "    <tr style=\"text-align: right;\">\n",
              "      <th></th>\n",
              "      <th>polyr</th>\n",
              "      <th>ModelYr</th>\n",
              "      <th>bi_ecy</th>\n",
              "      <th>bi_wp</th>\n",
              "      <th>EstimatedAnnualDistance_v2</th>\n",
              "      <th>yrs_driving_exp</th>\n",
              "      <th>bi_SFX_CNT</th>\n",
              "      <th>SFX_CNT</th>\n",
              "      <th>bi_nc_inc_loss_dcce_t_100K</th>\n",
              "      <th>bi_nc_inc_loss_dcce_t</th>\n",
              "      <th>...</th>\n",
              "      <th>veh_op_matrix_9_1</th>\n",
              "      <th>veh_op_matrix_9_2</th>\n",
              "      <th>veh_op_matrix_9_3</th>\n",
              "      <th>veh_op_matrix_9_4</th>\n",
              "      <th>veh_op_matrix_9_5</th>\n",
              "      <th>veh_op_matrix_9_6</th>\n",
              "      <th>veh_op_matrix_missing</th>\n",
              "      <th>DrvGender_v2 _Female</th>\n",
              "      <th>DrvGender_v2 _Male</th>\n",
              "      <th>DrvGender_v2 _Missing</th>\n",
              "    </tr>\n",
              "  </thead>\n",
              "  <tbody>\n",
              "    <tr>\n",
              "      <th>0</th>\n",
              "      <td>2011</td>\n",
              "      <td>2003</td>\n",
              "      <td>0.5</td>\n",
              "      <td>137.450394</td>\n",
              "      <td>6000</td>\n",
              "      <td>53.845514</td>\n",
              "      <td>0.0</td>\n",
              "      <td>0.0</td>\n",
              "      <td>0.0</td>\n",
              "      <td>0.0</td>\n",
              "      <td>...</td>\n",
              "      <td>0</td>\n",
              "      <td>0</td>\n",
              "      <td>0</td>\n",
              "      <td>0</td>\n",
              "      <td>0</td>\n",
              "      <td>0</td>\n",
              "      <td>0</td>\n",
              "      <td>0</td>\n",
              "      <td>1</td>\n",
              "      <td>0</td>\n",
              "    </tr>\n",
              "    <tr>\n",
              "      <th>1</th>\n",
              "      <td>2013</td>\n",
              "      <td>2003</td>\n",
              "      <td>0.5</td>\n",
              "      <td>165.416589</td>\n",
              "      <td>6000</td>\n",
              "      <td>53.845514</td>\n",
              "      <td>0.0</td>\n",
              "      <td>0.0</td>\n",
              "      <td>0.0</td>\n",
              "      <td>0.0</td>\n",
              "      <td>...</td>\n",
              "      <td>0</td>\n",
              "      <td>0</td>\n",
              "      <td>0</td>\n",
              "      <td>0</td>\n",
              "      <td>0</td>\n",
              "      <td>0</td>\n",
              "      <td>0</td>\n",
              "      <td>0</td>\n",
              "      <td>1</td>\n",
              "      <td>0</td>\n",
              "    </tr>\n",
              "    <tr>\n",
              "      <th>2</th>\n",
              "      <td>2016</td>\n",
              "      <td>2003</td>\n",
              "      <td>0.5</td>\n",
              "      <td>165.416589</td>\n",
              "      <td>5000</td>\n",
              "      <td>58.878818</td>\n",
              "      <td>0.0</td>\n",
              "      <td>0.0</td>\n",
              "      <td>0.0</td>\n",
              "      <td>0.0</td>\n",
              "      <td>...</td>\n",
              "      <td>0</td>\n",
              "      <td>0</td>\n",
              "      <td>0</td>\n",
              "      <td>0</td>\n",
              "      <td>0</td>\n",
              "      <td>0</td>\n",
              "      <td>0</td>\n",
              "      <td>0</td>\n",
              "      <td>1</td>\n",
              "      <td>0</td>\n",
              "    </tr>\n",
              "    <tr>\n",
              "      <th>3</th>\n",
              "      <td>2009</td>\n",
              "      <td>2006</td>\n",
              "      <td>0.5</td>\n",
              "      <td>137.450394</td>\n",
              "      <td>5000</td>\n",
              "      <td>53.845514</td>\n",
              "      <td>0.0</td>\n",
              "      <td>0.0</td>\n",
              "      <td>0.0</td>\n",
              "      <td>0.0</td>\n",
              "      <td>...</td>\n",
              "      <td>0</td>\n",
              "      <td>0</td>\n",
              "      <td>0</td>\n",
              "      <td>0</td>\n",
              "      <td>0</td>\n",
              "      <td>0</td>\n",
              "      <td>0</td>\n",
              "      <td>1</td>\n",
              "      <td>0</td>\n",
              "      <td>0</td>\n",
              "    </tr>\n",
              "    <tr>\n",
              "      <th>4</th>\n",
              "      <td>2011</td>\n",
              "      <td>2006</td>\n",
              "      <td>0.5</td>\n",
              "      <td>137.450394</td>\n",
              "      <td>3001</td>\n",
              "      <td>53.845514</td>\n",
              "      <td>0.0</td>\n",
              "      <td>0.0</td>\n",
              "      <td>0.0</td>\n",
              "      <td>0.0</td>\n",
              "      <td>...</td>\n",
              "      <td>0</td>\n",
              "      <td>0</td>\n",
              "      <td>0</td>\n",
              "      <td>0</td>\n",
              "      <td>0</td>\n",
              "      <td>0</td>\n",
              "      <td>0</td>\n",
              "      <td>1</td>\n",
              "      <td>0</td>\n",
              "      <td>0</td>\n",
              "    </tr>\n",
              "  </tbody>\n",
              "</table>\n",
              "<p>5 rows × 126 columns</p>\n",
              "</div>"
            ],
            "text/plain": [
              "   polyr  ModelYr  bi_ecy       bi_wp  EstimatedAnnualDistance_v2  \\\n",
              "0   2011     2003     0.5  137.450394                        6000   \n",
              "1   2013     2003     0.5  165.416589                        6000   \n",
              "2   2016     2003     0.5  165.416589                        5000   \n",
              "3   2009     2006     0.5  137.450394                        5000   \n",
              "4   2011     2006     0.5  137.450394                        3001   \n",
              "\n",
              "   yrs_driving_exp  bi_SFX_CNT  SFX_CNT  bi_nc_inc_loss_dcce_t_100K  \\\n",
              "0        53.845514         0.0      0.0                         0.0   \n",
              "1        53.845514         0.0      0.0                         0.0   \n",
              "2        58.878818         0.0      0.0                         0.0   \n",
              "3        53.845514         0.0      0.0                         0.0   \n",
              "4        53.845514         0.0      0.0                         0.0   \n",
              "\n",
              "   bi_nc_inc_loss_dcce_t  ...  veh_op_matrix_9_1  veh_op_matrix_9_2  \\\n",
              "0                    0.0  ...                  0                  0   \n",
              "1                    0.0  ...                  0                  0   \n",
              "2                    0.0  ...                  0                  0   \n",
              "3                    0.0  ...                  0                  0   \n",
              "4                    0.0  ...                  0                  0   \n",
              "\n",
              "   veh_op_matrix_9_3  veh_op_matrix_9_4  veh_op_matrix_9_5  veh_op_matrix_9_6  \\\n",
              "0                  0                  0                  0                  0   \n",
              "1                  0                  0                  0                  0   \n",
              "2                  0                  0                  0                  0   \n",
              "3                  0                  0                  0                  0   \n",
              "4                  0                  0                  0                  0   \n",
              "\n",
              "   veh_op_matrix_missing  DrvGender_v2 _Female  DrvGender_v2 _Male  \\\n",
              "0                      0                     0                   1   \n",
              "1                      0                     0                   1   \n",
              "2                      0                     0                   1   \n",
              "3                      0                     1                   0   \n",
              "4                      0                     1                   0   \n",
              "\n",
              "   DrvGender_v2 _Missing  \n",
              "0                      0  \n",
              "1                      0  \n",
              "2                      0  \n",
              "3                      0  \n",
              "4                      0  \n",
              "\n",
              "[5 rows x 126 columns]"
            ]
          },
          "metadata": {
            "tags": []
          },
          "execution_count": 5
        }
      ]
    },
    {
      "metadata": {
        "id": "VKGi-jQlI8Ry",
        "colab_type": "text"
      },
      "cell_type": "markdown",
      "source": [
        "**Data Preparation**\n",
        "\n",
        "\n",
        "\n",
        "*   Create target variables\n",
        "*   Clean up  variables not for modeling\n",
        "\n"
      ]
    },
    {
      "metadata": {
        "id": "uRqgMHZshItw",
        "colab_type": "code",
        "colab": {}
      },
      "cell_type": "code",
      "source": [
        "df['frequency']=df['bi_SFX_CNT']/df['bi_ecy']\n",
        "\n",
        "df['severity']=df['bi_nc_inc_loss_dcce_t_100K']/df['bi_SFX_CNT']\n",
        "\n",
        "df['ppremium']=df['bi_nc_inc_loss_dcce_t_100K']/df['bi_ecy']"
      ],
      "execution_count": 0,
      "outputs": []
    },
    {
      "metadata": {
        "id": "VPI8x-DE4J_7",
        "colab_type": "code",
        "colab": {
          "base_uri": "https://localhost:8080/",
          "height": 2361
        },
        "outputId": "32798886-d960-4ba8-ad0d-f32a3d96bbaa"
      },
      "cell_type": "code",
      "source": [
        "list(df)"
      ],
      "execution_count": 7,
      "outputs": [
        {
          "output_type": "execute_result",
          "data": {
            "text/plain": [
              "['polyr',\n",
              " 'ModelYr',\n",
              " 'bi_ecy',\n",
              " 'bi_wp',\n",
              " 'EstimatedAnnualDistance_v2',\n",
              " 'yrs_driving_exp',\n",
              " 'bi_SFX_CNT',\n",
              " 'SFX_CNT',\n",
              " 'bi_nc_inc_loss_dcce_t_100K',\n",
              " 'bi_nc_inc_loss_dcce_t',\n",
              " 'risk_zip_5',\n",
              " 'DrvPointsCharged_V2',\n",
              " 'Last_Owner_Average_Miles',\n",
              " 'Last_Owner_Recent_Annual_Mileage',\n",
              " 'Last_Owner_California_Recent_Ann',\n",
              " 'Modeled_Annual_Mileage',\n",
              " 'annual_mileage_v1',\n",
              " 'annual_mileage_v2',\n",
              " 'id',\n",
              " 'VehAge',\n",
              " 'ClaimInd',\n",
              " 'PolicyProgramCode_Affinity Group',\n",
              " 'PolicyProgramCode_Civil Servant',\n",
              " 'PolicyProgramCode_Educator',\n",
              " 'PolicyProgramCode_Firefighter',\n",
              " 'PolicyProgramCode_Law Enforcement',\n",
              " 'PolicyProgramCode_Non-Civil Servant',\n",
              " 'VehType_Antique',\n",
              " 'VehType_MotorHome',\n",
              " 'VehType_PrivatePassengerAuto',\n",
              " 'NewOrUsedInd_Missing',\n",
              " 'NewOrUsedInd_New',\n",
              " 'NewOrUsedInd_Used',\n",
              " 'gooddriverind_v2_Missing',\n",
              " 'gooddriverind_v2_N',\n",
              " 'gooddriverind_v2_Y',\n",
              " 'DrvMaritalStatus_v2_Married',\n",
              " 'DrvMaritalStatus_v2_Missing',\n",
              " 'DrvMaritalStatus_v2_Single',\n",
              " 'DrvGender_v2_Female',\n",
              " 'DrvGender_v2_Male',\n",
              " 'bi_split_limit_100/200',\n",
              " 'bi_split_limit_100/300',\n",
              " 'bi_split_limit_1000/1000',\n",
              " 'bi_split_limit_125/350',\n",
              " 'bi_split_limit_15/30',\n",
              " 'bi_split_limit_150/400',\n",
              " 'bi_split_limit_200/300',\n",
              " 'bi_split_limit_200/600',\n",
              " 'bi_split_limit_25/50',\n",
              " 'bi_split_limit_250/500',\n",
              " 'bi_split_limit_30/60',\n",
              " 'bi_split_limit_300/300',\n",
              " 'bi_split_limit_50/100',\n",
              " 'bi_split_limit_500/1000',\n",
              " 'bi_split_limit_500/500',\n",
              " 'VEHUSE_Business',\n",
              " 'VEHUSE_Farm',\n",
              " 'VEHUSE_Missing',\n",
              " 'VEHUSE_Pleasure',\n",
              " 'VEHUSE_Work',\n",
              " 'veh_op_matrix_10_2',\n",
              " 'veh_op_matrix_10_3',\n",
              " 'veh_op_matrix_10_4',\n",
              " 'veh_op_matrix_10_5',\n",
              " 'veh_op_matrix_10_6',\n",
              " 'veh_op_matrix_10_7',\n",
              " 'veh_op_matrix_11_3',\n",
              " 'veh_op_matrix_11_6',\n",
              " 'veh_op_matrix_12_4',\n",
              " 'veh_op_matrix_12_6',\n",
              " 'veh_op_matrix_1_1',\n",
              " 'veh_op_matrix_1_2',\n",
              " 'veh_op_matrix_1_3',\n",
              " 'veh_op_matrix_1_4',\n",
              " 'veh_op_matrix_2_1',\n",
              " 'veh_op_matrix_2_2',\n",
              " 'veh_op_matrix_2_3',\n",
              " 'veh_op_matrix_2_4',\n",
              " 'veh_op_matrix_3_1',\n",
              " 'veh_op_matrix_3_2',\n",
              " 'veh_op_matrix_3_3',\n",
              " 'veh_op_matrix_3_4',\n",
              " 'veh_op_matrix_3_5',\n",
              " 'veh_op_matrix_4_1',\n",
              " 'veh_op_matrix_4_2',\n",
              " 'veh_op_matrix_4_3',\n",
              " 'veh_op_matrix_4_4',\n",
              " 'veh_op_matrix_4_5',\n",
              " 'veh_op_matrix_5_1',\n",
              " 'veh_op_matrix_5_2',\n",
              " 'veh_op_matrix_5_3',\n",
              " 'veh_op_matrix_5_4',\n",
              " 'veh_op_matrix_5_5',\n",
              " 'veh_op_matrix_5_6',\n",
              " 'veh_op_matrix_6_1',\n",
              " 'veh_op_matrix_6_2',\n",
              " 'veh_op_matrix_6_3',\n",
              " 'veh_op_matrix_6_4',\n",
              " 'veh_op_matrix_6_5',\n",
              " 'veh_op_matrix_6_6',\n",
              " 'veh_op_matrix_6_7',\n",
              " 'veh_op_matrix_7_1',\n",
              " 'veh_op_matrix_7_2',\n",
              " 'veh_op_matrix_7_3',\n",
              " 'veh_op_matrix_7_4',\n",
              " 'veh_op_matrix_7_5',\n",
              " 'veh_op_matrix_7_6',\n",
              " 'veh_op_matrix_7_7',\n",
              " 'veh_op_matrix_8_1',\n",
              " 'veh_op_matrix_8_2',\n",
              " 'veh_op_matrix_8_3',\n",
              " 'veh_op_matrix_8_4',\n",
              " 'veh_op_matrix_8_5',\n",
              " 'veh_op_matrix_8_6',\n",
              " 'veh_op_matrix_8_7',\n",
              " 'veh_op_matrix_9_1',\n",
              " 'veh_op_matrix_9_2',\n",
              " 'veh_op_matrix_9_3',\n",
              " 'veh_op_matrix_9_4',\n",
              " 'veh_op_matrix_9_5',\n",
              " 'veh_op_matrix_9_6',\n",
              " 'veh_op_matrix_missing',\n",
              " 'DrvGender_v2 _Female',\n",
              " 'DrvGender_v2 _Male',\n",
              " 'DrvGender_v2 _Missing',\n",
              " 'frequency',\n",
              " 'severity',\n",
              " 'ppremium']"
            ]
          },
          "metadata": {
            "tags": []
          },
          "execution_count": 7
        }
      ]
    },
    {
      "metadata": {
        "id": "tccZ0qnrS8eM",
        "colab_type": "code",
        "colab": {}
      },
      "cell_type": "code",
      "source": [
        "cols = [c for c in df.columns if c.lower()[:13] != 'veh_op_matrix']\n",
        "\n",
        "df = df[cols]\n",
        "\n",
        "cols = [c for c in df.columns if c.lower()[:14] != 'bi_split_limit']\n",
        "\n",
        "df = df[cols]\n",
        "\n",
        "cols = [c for c in df.columns if c.lower()[:21] != 'bi_nc_inc_loss_dcce_t']\n",
        "\n",
        "df = df[cols]\n",
        "\n"
      ],
      "execution_count": 0,
      "outputs": []
    },
    {
      "metadata": {
        "id": "kg2zV5JlJfg9",
        "colab_type": "text"
      },
      "cell_type": "markdown",
      "source": [
        "**Modeling:**\n",
        "\n",
        "\n",
        "*   Assign independent variables  \n",
        "\n",
        "*   Select target variable and call model function with matching distribution family \n",
        "\n"
      ]
    },
    {
      "metadata": {
        "id": "TYDZoubk1l6R",
        "colab_type": "code",
        "colab": {}
      },
      "cell_type": "code",
      "source": [
        "X=df.drop(['bi_wp','ppremium','bi_SFX_CNT','SFX_CNT','ClaimInd', 'frequency','severity'], axis = 1)"
      ],
      "execution_count": 0,
      "outputs": []
    },
    {
      "metadata": {
        "id": "rwVIjZvT7cH8",
        "colab_type": "code",
        "colab": {}
      },
      "cell_type": "code",
      "source": [
        "# three target variables: ppremium, serverity, frequency are modeled \n",
        "# with three different distributions: Tweedie, Possion, Gamma, respectively\n",
        "\n",
        "def AutoGLM(Target, X):\n",
        "  y=df[Target]\n",
        "  if Target =='frequency':   \n",
        "    family = sm.families.Poisson(var_power=1.5)\n",
        " \n",
        "  elif Target =='severity':\n",
        "    family = sm.families.Gamma(var_power=1.5)\n",
        " \n",
        "  else:\n",
        "    family = sm.families.Tweedie(var_power=1.5)\n",
        "    \n",
        "  model = sm.GLM(exog = X, endog = y, family=family)\n",
        "  report = model.fit()\n",
        "  return report, report.summary()"
      ],
      "execution_count": 0,
      "outputs": []
    },
    {
      "metadata": {
        "id": "iG2KGMD6amjP",
        "colab_type": "code",
        "outputId": "00c00264-3e0b-4870-d2b1-aee18c64d997",
        "colab": {
          "base_uri": "https://localhost:8080/",
          "height": 1125
        }
      },
      "cell_type": "code",
      "source": [
        "# As an example here, when pure premium ('ppremium') is seleted, GLM function with Tweedie GLM was called.\n",
        "\n",
        "AutoGLM(\"ppremium\", X)"
      ],
      "execution_count": 11,
      "outputs": [
        {
          "output_type": "execute_result",
          "data": {
            "text/plain": [
              "(<statsmodels.genmod.generalized_linear_model.GLMResultsWrapper at 0x7f4614b5bf98>,\n",
              " <class 'statsmodels.iolib.summary.Summary'>\n",
              " \"\"\"\n",
              "                  Generalized Linear Model Regression Results                  \n",
              " ==============================================================================\n",
              " Dep. Variable:               ppremium   No. Observations:               103742\n",
              " Model:                            GLM   Df Residuals:                   103711\n",
              " Model Family:                 Tweedie   Df Model:                           30\n",
              " Link Function:                    log   Scale:                          10157.\n",
              " Method:                          IRLS   Log-Likelihood:                    nan\n",
              " Date:                Thu, 02 May 2019   Deviance:                   8.0458e+06\n",
              " Time:                        06:25:54   Pearson chi2:                 1.05e+09\n",
              " No. Iterations:                   100   Covariance Type:             nonrobust\n",
              " =======================================================================================================\n",
              "                                           coef    std err          z      P>|z|      [0.025      0.975]\n",
              " -------------------------------------------------------------------------------------------------------\n",
              " polyr                                  -0.0467      0.027     -1.709      0.087      -0.100       0.007\n",
              " ModelYr                                -0.0082      0.015     -0.543      0.587      -0.038       0.021\n",
              " bi_ecy                                 -2.2023      2.642     -0.833      0.405      -7.381       2.977\n",
              " EstimatedAnnualDistance_v2           2.932e-05   3.05e-05      0.963      0.336   -3.04e-05     8.9e-05\n",
              " yrs_driving_exp                        -0.0052      0.007     -0.721      0.471      -0.019       0.009\n",
              " risk_zip_5                             -0.0001   6.58e-05     -1.550      0.121      -0.000     2.7e-05\n",
              " DrvPointsCharged_V2                    -0.0647      0.252     -0.257      0.797      -0.558       0.429\n",
              " Last_Owner_Average_Miles              4.81e-05   4.53e-05      1.062      0.288   -4.07e-05       0.000\n",
              " Last_Owner_Recent_Annual_Mileage    -7.471e-05   4.06e-05     -1.839      0.066      -0.000    4.91e-06\n",
              " Last_Owner_California_Recent_Ann    -5.287e-05   3.59e-05     -1.475      0.140      -0.000    1.74e-05\n",
              " Modeled_Annual_Mileage               6.499e-06   4.97e-05      0.131      0.896    -9.1e-05       0.000\n",
              " annual_mileage_v1                       0.0001   6.48e-05      1.984      0.047    1.53e-06       0.000\n",
              " annual_mileage_v2                    -5.41e-05   6.65e-05     -0.814      0.416      -0.000    7.62e-05\n",
              " id                                    1.15e-06   7.18e-07      1.601      0.109   -2.58e-07    2.56e-06\n",
              " VehAge                                 -0.0385      0.016     -2.460      0.014      -0.069      -0.008\n",
              " PolicyProgramCode_Affinity Group        6.9563    345.997      0.020      0.984    -671.186     685.098\n",
              " PolicyProgramCode_Civil Servant         6.7508    345.997      0.020      0.984    -671.392     684.893\n",
              " PolicyProgramCode_Educator              6.4595    345.998      0.019      0.985    -671.684     684.603\n",
              " PolicyProgramCode_Firefighter           6.0112    345.998      0.017      0.986    -672.133     684.155\n",
              " PolicyProgramCode_Law Enforcement       6.2300    345.998      0.018      0.986    -671.913     684.373\n",
              " PolicyProgramCode_Non-Civil Servant     6.9621    345.997      0.020      0.984    -671.180     685.104\n",
              " VehType_Antique                        -0.6056   8754.644  -6.92e-05      1.000   -1.72e+04    1.72e+04\n",
              " VehType_MotorHome                      -1.7754   3825.035     -0.000      1.000   -7498.705    7495.155\n",
              " VehType_PrivatePassengerAuto           41.7508   3540.875      0.012      0.991   -6898.237    6981.739\n",
              " NewOrUsedInd_Missing                   13.1167    691.994      0.019      0.985   -1343.167    1369.400\n",
              " NewOrUsedInd_New                       12.8723    691.996      0.019      0.985   -1343.414    1369.159\n",
              " NewOrUsedInd_Used                      13.3809    691.995      0.019      0.985   -1342.905    1369.667\n",
              " gooddriverind_v2_Missing               15.7852    686.844      0.023      0.982   -1330.405    1361.975\n",
              " gooddriverind_v2_N                     12.4608    840.071      0.015      0.988   -1634.048    1658.970\n",
              " gooddriverind_v2_Y                     11.1240    840.071      0.013      0.989   -1635.384    1657.632\n",
              " DrvMaritalStatus_v2_Married            11.6505    840.071      0.014      0.989   -1634.858    1658.159\n",
              " DrvMaritalStatus_v2_Missing            15.7852    686.844      0.023      0.982   -1330.405    1361.975\n",
              " DrvMaritalStatus_v2_Single             11.9342    840.071      0.014      0.989   -1634.574    1658.443\n",
              " DrvGender_v2_Female                    11.7911    840.071      0.014      0.989   -1634.717    1658.300\n",
              " DrvGender_v2_Male                      11.7936    840.071      0.014      0.989   -1634.715    1658.302\n",
              " VEHUSE_Business                        16.7944   3273.979      0.005      0.996   -6400.086    6433.675\n",
              " VEHUSE_Farm                           -27.4825    1.1e+04     -0.002      0.998   -2.16e+04    2.15e+04\n",
              " VEHUSE_Missing                         15.7852    686.844      0.023      0.982   -1330.405    1361.975\n",
              " VEHUSE_Pleasure                        17.2873   3273.978      0.005      0.996   -6399.593    6434.167\n",
              " VEHUSE_Work                            16.9855   3273.978      0.005      0.996   -6399.894    6433.865\n",
              " DrvGender_v2 _Female                   11.7911    840.071      0.014      0.989   -1634.717    1658.300\n",
              " DrvGender_v2 _Male                     11.7936    840.071      0.014      0.989   -1634.715    1658.302\n",
              " DrvGender_v2 _Missing                  15.7852    686.844      0.023      0.982   -1330.405    1361.975\n",
              " =======================================================================================================\n",
              " \"\"\")"
            ]
          },
          "metadata": {
            "tags": []
          },
          "execution_count": 11
        }
      ]
    }
  ]
}